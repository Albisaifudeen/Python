{
 "cells": [
  {
   "cell_type": "markdown",
   "id": "e8b6c253",
   "metadata": {},
   "source": [
    "###### project day 7(3 games in one class)"
   ]
  },
  {
   "cell_type": "code",
   "execution_count": 39,
   "id": "b2868c2f",
   "metadata": {},
   "outputs": [],
   "source": [
    "import random\n",
    "\n",
    "class GameCollection:\n",
    "    def __init__(self):\n",
    "        self.num = random.randint(1, 10)\n",
    "        self.guess = None\n",
    "        self.user_choice = None\n",
    "        self.computer_choice = None\n",
    "\n",
    "    def set_Number_guessing_game(self):\n",
    "        while self.guess != self.num:\n",
    "            self.guess = input(\"Guess a number between 1 and 10: \")\n",
    "            self.guess = int(self.guess)\n",
    "            \n",
    "            if self.guess == self.num:\n",
    "                print(\"Congratulations! You won!\")\n",
    "                break\n",
    "            elif self.guess>=self.num:\n",
    "                print(\"too high\")\n",
    "            else:\n",
    "                print(\"too low\")  \n",
    "\n",
    "    def set_Rock_Paper_scissor(self):\n",
    "        options = [\"Rock\", \"Paper\", \"Scissors\"]\n",
    "        self.user_choice = input(\"Choose Rock, Paper, or Scissors: \")\n",
    "        self.computer_choice = random.choice(options)\n",
    "        print(\"You chose:\", self.user_choice)\n",
    "        print(\"Computer chose:\", self.computer_choice)\n",
    "\n",
    "    def get_Rock_Paper_scissor(self):\n",
    "        if self.user_choice == self.computer_choice:\n",
    "            print(\"It's a tie!\")\n",
    "        elif self.user_choice == \"Rock\" and self.computer_choice == \"Scissors\":\n",
    "            print(\"You win!\")\n",
    "        elif self.user_choice == \"Paper\" and self.computer_choice == \"Rock\":\n",
    "            print(\"You win!\")\n",
    "        elif self.user_choice == \"Scissors\" and self.computer_choice == \"Paper\":\n",
    "            print(\"You win!\")\n",
    "        else:\n",
    "            print(\"Computer wins!\")\n",
    "\n",
    "    \n",
    "\n",
    "    def set_Word_guessing_game(self):\n",
    "        self.turns1 = 10\n",
    "        self.guesses1 = ''\n",
    "        self.word1 = None\n",
    "        name1 = input(\"What is your NAME? \")\n",
    "        print(\"Best of Luck,\", name1)\n",
    "        words1 = ['Donkey', 'Aeroplane', 'America', 'Program',\n",
    "                  'Python', 'language', 'Cricket', 'Football',\n",
    "                  'Hockey', 'Spaceship', 'bus', 'flight']\n",
    "        self.word1 = random.choice(words1)\n",
    "        print(\"Please guess the characters:\")\n",
    "\n",
    "    def get_Word_guessing_game(self):\n",
    "        while self.turns1 > 0:\n",
    "            failed1 = 0\n",
    "            for char in self.word1:\n",
    "                if char in self.guesses1:\n",
    "                    print(char, end=\" \")\n",
    "                else:\n",
    "                    print(\"_\", end=\" \")\n",
    "                    failed1 += 1\n",
    "\n",
    "            if failed1 == 0:\n",
    "                print(\"\\nUser Win\")\n",
    "                print(\"The correct word is:\", self.word1)\n",
    "                break\n",
    "\n",
    "            guess1 = input(\"\\nGuess another character: \")\n",
    "            self.guesses1 += guess1\n",
    "\n",
    "            if guess1 not in self.word1:\n",
    "                self.turns1 -= 1\n",
    "                print(\"Wrong Guess\")\n",
    "                print(\"You have\", self.turns1, 'more guesses')\n",
    "\n",
    "            if self.turns1 == 0:\n",
    "                print(\"User Loose\")\n",
    "\n",
    "\n",
    "# Create an instance of the GameCollection class\n",
    "game_collection = GameCollection()\n"
   ]
  },
  {
   "cell_type": "code",
   "execution_count": 40,
   "id": "e40daab7",
   "metadata": {},
   "outputs": [
    {
     "name": "stdout",
     "output_type": "stream",
     "text": [
      "Guess a number between 1 and 10: 6\n",
      "too low\n",
      "Guess a number between 1 and 10: 8\n",
      "Congratulations! You won!\n"
     ]
    }
   ],
   "source": [
    "game_collection.set_Number_guessing_game()\n",
    "\n",
    "\n",
    "\n"
   ]
  },
  {
   "cell_type": "code",
   "execution_count": 41,
   "id": "4f3a2ea7",
   "metadata": {},
   "outputs": [
    {
     "name": "stdout",
     "output_type": "stream",
     "text": [
      "Choose Rock, Paper, or Scissors: Rock\n",
      "You chose: Rock\n",
      "Computer chose: Rock\n",
      "It's a tie!\n"
     ]
    }
   ],
   "source": [
    "game_collection.set_Rock_Paper_scissor()\n",
    "game_collection.get_Rock_Paper_scissor()"
   ]
  },
  {
   "cell_type": "code",
   "execution_count": 42,
   "id": "74f5f921",
   "metadata": {},
   "outputs": [
    {
     "name": "stdout",
     "output_type": "stream",
     "text": [
      "What is your NAME? albi\n",
      "Best of Luck, albi\n",
      "Please guess the characters:\n",
      "_ _ _ _ _ _ \n",
      "Guess another character: d\n",
      "Wrong Guess\n",
      "You have 9 more guesses\n",
      "_ _ _ _ _ _ \n",
      "Guess another character: f\n",
      "Wrong Guess\n",
      "You have 8 more guesses\n",
      "_ _ _ _ _ _ \n",
      "Guess another character: p\n",
      "Wrong Guess\n",
      "You have 7 more guesses\n",
      "_ _ _ _ _ _ \n",
      "Guess another character: y\n",
      "_ y _ _ _ _ \n",
      "Guess another character: P\n",
      "P y _ _ _ _ \n",
      "Guess another character: t\n",
      "P y t _ _ _ \n",
      "Guess another character: h\n",
      "P y t h _ _ \n",
      "Guess another character: o\n",
      "P y t h o _ \n",
      "Guess another character: n\n",
      "P y t h o n \n",
      "User Win\n",
      "The correct word is: Python\n"
     ]
    }
   ],
   "source": [
    "game_collection.set_Word_guessing_game()\n",
    "game_collection.get_Word_guessing_game()\n"
   ]
  }
 ],
 "metadata": {
  "kernelspec": {
   "display_name": "Python 3 (ipykernel)",
   "language": "python",
   "name": "python3"
  },
  "language_info": {
   "codemirror_mode": {
    "name": "ipython",
    "version": 3
   },
   "file_extension": ".py",
   "mimetype": "text/x-python",
   "name": "python",
   "nbconvert_exporter": "python",
   "pygments_lexer": "ipython3",
   "version": "3.11.5"
  }
 },
 "nbformat": 4,
 "nbformat_minor": 5
}
